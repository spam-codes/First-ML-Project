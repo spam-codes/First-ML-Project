{
 "cells": [
  {
   "cell_type": "code",
   "execution_count": 1,
   "id": "b2f2f670-9673-4356-9ee9-079e34cd4b08",
   "metadata": {},
   "outputs": [],
   "source": [
    "#check the versions of the library"
   ]
  },
  {
   "cell_type": "code",
   "execution_count": null,
   "id": "7f262b6a-4111-470a-9325-06ddfed62e94",
   "metadata": {},
   "outputs": [],
   "source": []
  },
  {
   "cell_type": "code",
   "execution_count": 2,
   "id": "d4cb8e70-ea6a-487e-84be-327a0f0e2621",
   "metadata": {},
   "outputs": [],
   "source": [
    "# Python Version"
   ]
  },
  {
   "cell_type": "code",
   "execution_count": 3,
   "id": "ae5bfa77-53d6-42d8-98aa-0343fe4189d6",
   "metadata": {},
   "outputs": [],
   "source": [
    "import sys"
   ]
  },
  {
   "cell_type": "code",
   "execution_count": 7,
   "id": "5fffd894-ee54-4c5d-9148-da49f12003d2",
   "metadata": {},
   "outputs": [
    {
     "name": "stdout",
     "output_type": "stream",
     "text": [
      "Python: 3.11.9 (tags/v3.11.9:de54cf5, Apr  2 2024, 10:12:12) [MSC v.1938 64 bit (AMD64)]\n"
     ]
    }
   ],
   "source": [
    "print('Python: {}'.format(sys.version))"
   ]
  },
  {
   "cell_type": "code",
   "execution_count": 8,
   "id": "d09effce-d98f-446c-95c4-78dccde5d143",
   "metadata": {},
   "outputs": [],
   "source": [
    "# numpy "
   ]
  },
  {
   "cell_type": "code",
   "execution_count": 2,
   "id": "de034efe-586b-415c-a3a5-9ca27b9e552c",
   "metadata": {},
   "outputs": [],
   "source": [
    "import numpy\n"
   ]
  },
  {
   "cell_type": "code",
   "execution_count": 3,
   "id": "5c08a0a5-c46e-46de-b6ed-73989ca43d0a",
   "metadata": {},
   "outputs": [
    {
     "name": "stdout",
     "output_type": "stream",
     "text": [
      "numpy: 2.3.2\n"
     ]
    }
   ],
   "source": [
    "print('numpy: {}'.format(numpy.__version__))\n"
   ]
  },
  {
   "cell_type": "code",
   "execution_count": 4,
   "id": "791f6ea7-a011-4605-9414-1217fbaab9ed",
   "metadata": {},
   "outputs": [],
   "source": [
    "#scipy"
   ]
  },
  {
   "cell_type": "code",
   "execution_count": 5,
   "id": "f101ce7c-4ca1-47fa-9c2a-ad821ac391d2",
   "metadata": {},
   "outputs": [],
   "source": [
    "import scipy"
   ]
  },
  {
   "cell_type": "code",
   "execution_count": 6,
   "id": "b281bee6-7cd3-4df4-9b8a-c30c27c3ce9a",
   "metadata": {},
   "outputs": [
    {
     "name": "stdout",
     "output_type": "stream",
     "text": [
      "scipy: 1.16.1\n"
     ]
    }
   ],
   "source": [
    "print('scipy: {}'.format(scipy.__version__))"
   ]
  },
  {
   "cell_type": "code",
   "execution_count": 7,
   "id": "2f4bfb3a-35ad-4ba1-8c74-55981c43054a",
   "metadata": {},
   "outputs": [],
   "source": [
    "#matplotlib"
   ]
  },
  {
   "cell_type": "code",
   "execution_count": 8,
   "id": "78b27463-a817-4ab7-a7f1-f090995a4f36",
   "metadata": {},
   "outputs": [],
   "source": [
    "import matplotlib"
   ]
  },
  {
   "cell_type": "code",
   "execution_count": 9,
   "id": "e92df025-59bd-45bb-8816-0f6d468cf909",
   "metadata": {},
   "outputs": [
    {
     "name": "stdout",
     "output_type": "stream",
     "text": [
      "matplotlib: 3.10.5\n"
     ]
    }
   ],
   "source": [
    "print('matplotlib: {}'.format(matplotlib.__version__))"
   ]
  },
  {
   "cell_type": "code",
   "execution_count": 10,
   "id": "8c9cba07-d30f-4f9c-a5d8-34903db7950a",
   "metadata": {},
   "outputs": [],
   "source": [
    "#pandas"
   ]
  },
  {
   "cell_type": "code",
   "execution_count": 11,
   "id": "a299d145-93e2-433b-ad5a-42f477bb5321",
   "metadata": {},
   "outputs": [],
   "source": [
    "import pandas"
   ]
  },
  {
   "cell_type": "code",
   "execution_count": 12,
   "id": "4c267e2d-a078-462c-a363-74a385305c39",
   "metadata": {},
   "outputs": [
    {
     "name": "stdout",
     "output_type": "stream",
     "text": [
      "pandas: 2.3.1\n"
     ]
    }
   ],
   "source": [
    "print('pandas: {}'.format(pandas.__version__))"
   ]
  },
  {
   "cell_type": "code",
   "execution_count": 13,
   "id": "1f8942ba-dca9-4b5b-9b49-5c78e59ef80a",
   "metadata": {},
   "outputs": [],
   "source": [
    "#scilit-learn"
   ]
  },
  {
   "cell_type": "code",
   "execution_count": 14,
   "id": "752b4e70-d7d4-47ac-b021-0846d665623a",
   "metadata": {},
   "outputs": [],
   "source": [
    "import sklearn"
   ]
  },
  {
   "cell_type": "code",
   "execution_count": 15,
   "id": "cde6ebd6-345c-4713-a2e3-2f961fd196f0",
   "metadata": {},
   "outputs": [
    {
     "name": "stdout",
     "output_type": "stream",
     "text": [
      "sklearn: 1.7.1\n"
     ]
    }
   ],
   "source": [
    "print('sklearn: {}'.format(sklearn.__version__))"
   ]
  },
  {
   "cell_type": "code",
   "execution_count": null,
   "id": "ee91430c-e70c-4a0b-84da-ae1059d774d8",
   "metadata": {},
   "outputs": [],
   "source": []
  },
  {
   "cell_type": "code",
   "execution_count": null,
   "id": "a8a92901-a7e8-488c-840f-db139a67c9c4",
   "metadata": {},
   "outputs": [],
   "source": []
  },
  {
   "cell_type": "code",
   "execution_count": 16,
   "id": "aa5597b5-eb72-4eb9-87e8-2610812a2493",
   "metadata": {},
   "outputs": [],
   "source": [
    "#load libraries"
   ]
  },
  {
   "cell_type": "code",
   "execution_count": 17,
   "id": "557edad4-8862-44e5-887d-1b619e7ceeba",
   "metadata": {},
   "outputs": [],
   "source": [
    "from pandas import read_csv"
   ]
  },
  {
   "cell_type": "code",
   "execution_count": 18,
   "id": "f29f31aa-c1c1-47b6-92b0-335f3ad08d33",
   "metadata": {},
   "outputs": [],
   "source": [
    "from pandas.plotting import scatter_matrix"
   ]
  },
  {
   "cell_type": "code",
   "execution_count": 37,
   "id": "5920e1b7-1e0c-4639-9c2d-ffc2d8c8e888",
   "metadata": {},
   "outputs": [],
   "source": [
    "from matplotlib import pyplot as plt"
   ]
  },
  {
   "cell_type": "code",
   "execution_count": 38,
   "id": "63d92529-849c-4f5b-8d4a-a379e189feb1",
   "metadata": {},
   "outputs": [],
   "source": [
    "from sklearn.model_selection import train_test_split"
   ]
  },
  {
   "cell_type": "code",
   "execution_count": 22,
   "id": "7ce1c32e-6cbc-49a2-95f3-a7ae60343c69",
   "metadata": {},
   "outputs": [],
   "source": [
    "from sklearn.model_selection import cross_val_score"
   ]
  },
  {
   "cell_type": "code",
   "execution_count": 25,
   "id": "3b2ace59-4047-4913-b0e1-00ecc96950e2",
   "metadata": {},
   "outputs": [],
   "source": [
    "from sklearn.model_selection import StratifiedKFold"
   ]
  },
  {
   "cell_type": "code",
   "execution_count": 26,
   "id": "5bc4cea2-c0da-43e9-8a29-bd210181f3c5",
   "metadata": {},
   "outputs": [],
   "source": [
    "from sklearn.metrics import classification_report"
   ]
  },
  {
   "cell_type": "code",
   "execution_count": 29,
   "id": "273c89e3-8b0f-43f3-bbbf-e378dab21dc9",
   "metadata": {},
   "outputs": [],
   "source": [
    "from sklearn.metrics import confusion_matrix"
   ]
  },
  {
   "cell_type": "code",
   "execution_count": 30,
   "id": "398375c3-5dda-4f6d-8d17-b125e01c09e9",
   "metadata": {},
   "outputs": [],
   "source": [
    "from sklearn.metrics import accuracy_score"
   ]
  },
  {
   "cell_type": "code",
   "execution_count": 31,
   "id": "526db34a-9381-4717-a15c-e3ad8ed0a095",
   "metadata": {},
   "outputs": [],
   "source": [
    "from sklearn.linear_model import LogisticRegression"
   ]
  },
  {
   "cell_type": "code",
   "execution_count": 32,
   "id": "01893398-71dc-472c-9fbf-809e9d58fde2",
   "metadata": {},
   "outputs": [],
   "source": [
    "from sklearn.tree import DecisionTreeClassifier"
   ]
  },
  {
   "cell_type": "code",
   "execution_count": 33,
   "id": "4f053e16-36df-446e-b8e2-6a63c8a66825",
   "metadata": {},
   "outputs": [],
   "source": [
    "from sklearn.neighbors import KNeighborsClassifier"
   ]
  },
  {
   "cell_type": "code",
   "execution_count": 34,
   "id": "7f95260c-03cd-4190-bcf1-d191b98c58f5",
   "metadata": {},
   "outputs": [],
   "source": [
    "from sklearn.discriminant_analysis import LinearDiscriminantAnalysis"
   ]
  },
  {
   "cell_type": "code",
   "execution_count": 35,
   "id": "731c2ed2-899c-447c-9c7a-0453376ea2b0",
   "metadata": {},
   "outputs": [],
   "source": [
    "from sklearn.naive_bayes import GaussianNB"
   ]
  },
  {
   "cell_type": "code",
   "execution_count": 36,
   "id": "330f0de3-fcea-444d-83b9-0246a48c01e7",
   "metadata": {},
   "outputs": [],
   "source": [
    "from sklearn.svm import SVC"
   ]
  },
  {
   "cell_type": "code",
   "execution_count": null,
   "id": "39ca411a-d1b8-4bef-a4c5-ac7e22e647b2",
   "metadata": {},
   "outputs": [],
   "source": []
  },
  {
   "cell_type": "code",
   "execution_count": null,
   "id": "4553e76b-794c-4aab-abca-b1b28fdd8105",
   "metadata": {},
   "outputs": [],
   "source": []
  },
  {
   "cell_type": "code",
   "execution_count": null,
   "id": "e858515d-fd17-486a-914d-90e59e5c06d6",
   "metadata": {},
   "outputs": [],
   "source": []
  },
  {
   "cell_type": "code",
   "execution_count": 39,
   "id": "819d5e6b-1789-407b-8a96-0e45960e6b9a",
   "metadata": {},
   "outputs": [],
   "source": [
    "# Load Dataset"
   ]
  },
  {
   "cell_type": "code",
   "execution_count": 40,
   "id": "1c3cb6a9-dc29-4f51-94ac-fe0bda71fe94",
   "metadata": {},
   "outputs": [],
   "source": [
    "url = \"https://raw.githubusercontent.com/jbrownlee/Datasets/master/iris.csv\""
   ]
  },
  {
   "cell_type": "code",
   "execution_count": 41,
   "id": "cb60ebff-c9a4-4849-9d3e-24e2390d40f3",
   "metadata": {},
   "outputs": [],
   "source": [
    "names = ['sepal-lenght', 'sepal-width', 'petal-length' , 'petal-width', 'class']"
   ]
  },
  {
   "cell_type": "code",
   "execution_count": 42,
   "id": "311406d6-8bbc-4201-9d14-894a06b35e59",
   "metadata": {},
   "outputs": [],
   "source": [
    "dataset = read_csv(url, names=names)"
   ]
  },
  {
   "cell_type": "code",
   "execution_count": null,
   "id": "9409f820-c6ea-414d-90f9-d3c2f9cceb2d",
   "metadata": {},
   "outputs": [],
   "source": []
  },
  {
   "cell_type": "code",
   "execution_count": 43,
   "id": "b3f6dbd1-105f-483e-a4e9-0f91b614e3cd",
   "metadata": {},
   "outputs": [],
   "source": [
    "# Dimensions of DataSet"
   ]
  },
  {
   "cell_type": "code",
   "execution_count": 44,
   "id": "a38ec355-dd78-4f28-a886-d616b5bc7233",
   "metadata": {},
   "outputs": [],
   "source": [
    "# Shape"
   ]
  },
  {
   "cell_type": "code",
   "execution_count": 45,
   "id": "0b011336-bf2a-4d0e-85dc-fe4a8eae5e7d",
   "metadata": {},
   "outputs": [
    {
     "name": "stdout",
     "output_type": "stream",
     "text": [
      "(150, 5)\n"
     ]
    }
   ],
   "source": [
    "print(dataset.shape)"
   ]
  },
  {
   "cell_type": "code",
   "execution_count": null,
   "id": "f183079b-d670-4a78-a858-09fb85308cb8",
   "metadata": {},
   "outputs": [],
   "source": []
  },
  {
   "cell_type": "code",
   "execution_count": 46,
   "id": "09b56264-88fb-451d-9677-3b0e3a735b5a",
   "metadata": {},
   "outputs": [],
   "source": [
    "# Head"
   ]
  },
  {
   "cell_type": "code",
   "execution_count": 47,
   "id": "133f3573-db03-4f5c-977f-2e1ce718aff5",
   "metadata": {},
   "outputs": [
    {
     "name": "stdout",
     "output_type": "stream",
     "text": [
      "    sepal-lenght  sepal-width  petal-length  petal-width        class\n",
      "0            5.1          3.5           1.4          0.2  Iris-setosa\n",
      "1            4.9          3.0           1.4          0.2  Iris-setosa\n",
      "2            4.7          3.2           1.3          0.2  Iris-setosa\n",
      "3            4.6          3.1           1.5          0.2  Iris-setosa\n",
      "4            5.0          3.6           1.4          0.2  Iris-setosa\n",
      "5            5.4          3.9           1.7          0.4  Iris-setosa\n",
      "6            4.6          3.4           1.4          0.3  Iris-setosa\n",
      "7            5.0          3.4           1.5          0.2  Iris-setosa\n",
      "8            4.4          2.9           1.4          0.2  Iris-setosa\n",
      "9            4.9          3.1           1.5          0.1  Iris-setosa\n",
      "10           5.4          3.7           1.5          0.2  Iris-setosa\n",
      "11           4.8          3.4           1.6          0.2  Iris-setosa\n",
      "12           4.8          3.0           1.4          0.1  Iris-setosa\n",
      "13           4.3          3.0           1.1          0.1  Iris-setosa\n",
      "14           5.8          4.0           1.2          0.2  Iris-setosa\n",
      "15           5.7          4.4           1.5          0.4  Iris-setosa\n",
      "16           5.4          3.9           1.3          0.4  Iris-setosa\n",
      "17           5.1          3.5           1.4          0.3  Iris-setosa\n",
      "18           5.7          3.8           1.7          0.3  Iris-setosa\n",
      "19           5.1          3.8           1.5          0.3  Iris-setosa\n"
     ]
    }
   ],
   "source": [
    "print(dataset.head(20))"
   ]
  },
  {
   "cell_type": "code",
   "execution_count": null,
   "id": "41517ca9-b0d8-483a-b4e9-37f2f6a4984c",
   "metadata": {},
   "outputs": [],
   "source": []
  },
  {
   "cell_type": "code",
   "execution_count": 50,
   "id": "28254733-66de-4c34-b2f1-cadb2c6d181d",
   "metadata": {},
   "outputs": [],
   "source": [
    "# StatisticalSummary-Descriptions"
   ]
  },
  {
   "cell_type": "code",
   "execution_count": 49,
   "id": "bab4c32e-b062-4c41-907b-078836612995",
   "metadata": {},
   "outputs": [
    {
     "name": "stdout",
     "output_type": "stream",
     "text": [
      "       sepal-lenght  sepal-width  petal-length  petal-width\n",
      "count    150.000000   150.000000    150.000000   150.000000\n",
      "mean       5.843333     3.054000      3.758667     1.198667\n",
      "std        0.828066     0.433594      1.764420     0.763161\n",
      "min        4.300000     2.000000      1.000000     0.100000\n",
      "25%        5.100000     2.800000      1.600000     0.300000\n",
      "50%        5.800000     3.000000      4.350000     1.300000\n",
      "75%        6.400000     3.300000      5.100000     1.800000\n",
      "max        7.900000     4.400000      6.900000     2.500000\n"
     ]
    }
   ],
   "source": [
    "print(dataset.describe())"
   ]
  },
  {
   "cell_type": "code",
   "execution_count": null,
   "id": "ba059af5-e995-4787-8a05-3c07e20dc748",
   "metadata": {},
   "outputs": [],
   "source": []
  },
  {
   "cell_type": "code",
   "execution_count": 51,
   "id": "9d006334-d544-4e60-b152-34c981d2d95d",
   "metadata": {},
   "outputs": [],
   "source": [
    "#class distribution"
   ]
  },
  {
   "cell_type": "code",
   "execution_count": 52,
   "id": "85f0b275-de58-4df1-8d9d-21cb19007dab",
   "metadata": {},
   "outputs": [
    {
     "name": "stdout",
     "output_type": "stream",
     "text": [
      "class\n",
      "Iris-setosa        50\n",
      "Iris-versicolor    50\n",
      "Iris-virginica     50\n",
      "dtype: int64\n"
     ]
    }
   ],
   "source": [
    "print(dataset.groupby('class').size())"
   ]
  },
  {
   "cell_type": "code",
   "execution_count": null,
   "id": "7a3c4cff-0c9e-4357-b51e-a075ad88efef",
   "metadata": {},
   "outputs": [],
   "source": []
  },
  {
   "cell_type": "code",
   "execution_count": 53,
   "id": "a49cd755-cff3-490d-985d-d7a5baa97847",
   "metadata": {},
   "outputs": [],
   "source": [
    "# Univariate Plots"
   ]
  },
  {
   "cell_type": "code",
   "execution_count": 54,
   "id": "34aa9a81-5ec8-430d-b1c5-1e51cec420f2",
   "metadata": {},
   "outputs": [],
   "source": [
    "# box and whisker plots"
   ]
  },
  {
   "cell_type": "code",
   "execution_count": 56,
   "id": "41243988-ef31-4758-8198-834cc5c6b761",
   "metadata": {},
   "outputs": [
    {
     "data": {
      "text/plain": [
       "sepal-lenght       Axes(0.125,0.53;0.352273x0.35)\n",
       "sepal-width     Axes(0.547727,0.53;0.352273x0.35)\n",
       "petal-length       Axes(0.125,0.11;0.352273x0.35)\n",
       "petal-width     Axes(0.547727,0.11;0.352273x0.35)\n",
       "dtype: object"
      ]
     },
     "execution_count": 56,
     "metadata": {},
     "output_type": "execute_result"
    },
    {
     "data": {
      "image/png": "[encoded data removed]",
      "text/plain": [
       "<Figure size 640x480 with 4 Axes>"
      ]
     },
     "metadata": {},
     "output_type": "display_data"
    }
   ],
   "source": [
    "dataset.plot(kind='box', subplots=True, layout=(2,2), sharex=False, sharey=False)"
   ]
  },
  {
   "cell_type": "code",
   "execution_count": 57,
   "id": "ac18648a-b00a-466e-8193-b72361e4f54a",
   "metadata": {},
   "outputs": [],
   "source": [
    "plt.show()"
   ]
  },
  {
   "cell_type": "code",
   "execution_count": null,
   "id": "f4943e31-c906-43b8-a8cc-f556789ee184",
   "metadata": {},
   "outputs": [],
   "source": []
  },
  {
   "cell_type": "code",
   "execution_count": 58,
   "id": "c2a5a09b-a010-466e-bc46-4f6d89824637",
   "metadata": {},
   "outputs": [],
   "source": [
    "# Histogram"
   ]
  },
  {
   "cell_type": "code",
   "execution_count": 59,
   "id": "de1f0d7f-53ab-448b-9292-d816eacac42e",
   "metadata": {},
   "outputs": [
    {
     "data": {
      "text/plain": [
       "array([[<Axes: title={'center': 'sepal-lenght'}>,\n",
       "        <Axes: title={'center': 'sepal-width'}>],\n",
       "       [<Axes: title={'center': 'petal-length'}>,\n",
       "        <Axes: title={'center': 'petal-width'}>]], dtype=object)"
      ]
     },
     "execution_count": 59,
     "metadata": {},
     "output_type": "execute_result"
    },
    {
     "data": {
      "image/png": "[encoded data removed]",
      "text/plain": [
       "<Figure size 640x480 with 4 Axes>"
      ]
     },
     "metadata": {},
     "output_type": "display_data"
    }
   ],
   "source": [
    "dataset.hist()"
   ]
  },
  {
   "cell_type": "code",
   "execution_count": null,
   "id": "06ee63bb-f952-4b12-a0aa-a0a19a105da4",
   "metadata": {},
   "outputs": [],
   "source": []
  },
  {
   "cell_type": "code",
   "execution_count": 60,
   "id": "1e9daec0-6c43-4261-995f-33faf5dd3f64",
   "metadata": {},
   "outputs": [],
   "source": [
    "# Multivariate Plot"
   ]
  },
  {
   "cell_type": "code",
   "execution_count": 61,
   "id": "21e691c7-a1ed-47ba-aa3b-80129841fe9e",
   "metadata": {},
   "outputs": [],
   "source": [
    "# scatter plot matrix"
   ]
  },
  {
   "cell_type": "code",
   "execution_count": 62,
   "id": "824da3d0-2291-4649-8988-e3bd72e57264",
   "metadata": {},
   "outputs": [
    {
     "data": {
      "text/plain": [
       "array([[<Axes: xlabel='sepal-lenght', ylabel='sepal-lenght'>,\n",
       "        <Axes: xlabel='sepal-width', ylabel='sepal-lenght'>,\n",
       "        <Axes: xlabel='petal-length', ylabel='sepal-lenght'>,\n",
       "        <Axes: xlabel='petal-width', ylabel='sepal-lenght'>],\n",
       "       [<Axes: xlabel='sepal-lenght', ylabel='sepal-width'>,\n",
       "        <Axes: xlabel='sepal-width', ylabel='sepal-width'>,\n",
       "        <Axes: xlabel='petal-length', ylabel='sepal-width'>,\n",
       "        <Axes: xlabel='petal-width', ylabel='sepal-width'>],\n",
       "       [<Axes: xlabel='sepal-lenght', ylabel='petal-length'>,\n",
       "        <Axes: xlabel='sepal-width', ylabel='petal-length'>,\n",
       "        <Axes: xlabel='petal-length', ylabel='petal-length'>,\n",
       "        <Axes: xlabel='petal-width', ylabel='petal-length'>],\n",
       "       [<Axes: xlabel='sepal-lenght', ylabel='petal-width'>,\n",
       "        <Axes: xlabel='sepal-width', ylabel='petal-width'>,\n",
       "        <Axes: xlabel='petal-length', ylabel='petal-width'>,\n",
       "        <Axes: xlabel='petal-width', ylabel='petal-width'>]], dtype=object)"
      ]
     },
     "execution_count": 62,
     "metadata": {},
     "output_type": "execute_result"
    },
    {
     "data": {
      "image/png": "[encoded data removed]",
      "text/plain": [
       "<Figure size 640x480 with 16 Axes>"
      ]
     },
     "metadata": {},
     "output_type": "display_data"
    }
   ],
   "source": [
    "scatter_matrix(dataset)"
   ]
  },
  {
   "cell_type": "code",
   "execution_count": null,
   "id": "11e1ebc8-36fe-4a3e-8bc1-704df36e5533",
   "metadata": {},
   "outputs": [],
   "source": []
  },
  {
   "cell_type": "code",
   "execution_count": 63,
   "id": "e2b9daac-d4a1-4cd7-971b-241778b10289",
   "metadata": {},
   "outputs": [],
   "source": [
    "# Create A Validation Data"
   ]
  },
  {
   "cell_type": "code",
   "execution_count": 64,
   "id": "2b94d5f0-cb8d-4756-8f73-e0a4ccc3e6c3",
   "metadata": {},
   "outputs": [],
   "source": [
    "# Split-out validatiion dataset"
   ]
  },
  {
   "cell_type": "code",
   "execution_count": 65,
   "id": "d4b9361f-32ff-4933-8ead-8dcc3a56a12b",
   "metadata": {},
   "outputs": [],
   "source": [
    "array= dataset.values"
   ]
  },
  {
   "cell_type": "code",
   "execution_count": 66,
   "id": "766a6809-41da-42a4-a90f-e5c74d5b2247",
   "metadata": {},
   "outputs": [],
   "source": [
    "x = array[:, 0:4]"
   ]
  },
  {
   "cell_type": "code",
   "execution_count": 67,
   "id": "71721841-ba76-4c46-926f-87f8699107a4",
   "metadata": {},
   "outputs": [],
   "source": [
    "y = array[:,4]"
   ]
  },
  {
   "cell_type": "code",
   "execution_count": 68,
   "id": "0618d2a0-cddf-4d28-885d-6c8f59c51da0",
   "metadata": {},
   "outputs": [],
   "source": [
    "X_train, X_validation, Y_train, Y_validation = train_test_split(x, y, test_size=0.20, random_state = 1)"
   ]
  },
  {
   "cell_type": "code",
   "execution_count": null,
   "id": "de1fc3bf-a37b-481a-ac9b-dbb280d02854",
   "metadata": {},
   "outputs": [],
   "source": []
  },
  {
   "cell_type": "code",
   "execution_count": 69,
   "id": "12d216d7-2dbf-432e-83b5-2026e099c2ed",
   "metadata": {},
   "outputs": [],
   "source": [
    "# Build Models"
   ]
  },
  {
   "cell_type": "code",
   "execution_count": 70,
   "id": "b63644d5-fb4b-46f5-878a-3235f7465b0b",
   "metadata": {},
   "outputs": [],
   "source": [
    "# Spot Check Algorithm"
   ]
  },
  {
   "cell_type": "code",
   "execution_count": 71,
   "id": "d9bf7e9a-71a5-42f0-8d2c-f22f1557e34e",
   "metadata": {},
   "outputs": [],
   "source": [
    "models = []"
   ]
  },
  {
   "cell_type": "code",
   "execution_count": 72,
   "id": "e264c931-539d-42b5-a802-ae65545ff097",
   "metadata": {},
   "outputs": [],
   "source": [
    "models.append(('LR', LogisticRegression(solver='liblinear', multi_class='ovr')))"
   ]
  },
  {
   "cell_type": "code",
   "execution_count": 73,
   "id": "4118f908-ae15-4e9f-a9c4-c469419c87bd",
   "metadata": {},
   "outputs": [],
   "source": [
    "models.append(('LDA', LinearDiscriminantAnalysis()))"
   ]
  },
  {
   "cell_type": "code",
   "execution_count": 75,
   "id": "ea6d7130-846b-4906-8a89-71399213b7c8",
   "metadata": {},
   "outputs": [],
   "source": [
    "models.append(('KNN', KNeighborsClassifier()))"
   ]
  },
  {
   "cell_type": "code",
   "execution_count": 76,
   "id": "4f81cb35-2915-4f88-8532-9d13d485a0aa",
   "metadata": {},
   "outputs": [],
   "source": [
    "models.append(('CART', DecisionTreeClassifier()))"
   ]
  },
  {
   "cell_type": "code",
   "execution_count": 77,
   "id": "e56cb989-ce9e-46a1-833c-a38ca6ef9765",
   "metadata": {},
   "outputs": [],
   "source": [
    "models.append(('NB', GaussianNB()))"
   ]
  },
  {
   "cell_type": "code",
   "execution_count": 78,
   "id": "6182b843-0ad6-45a5-9a35-d2b43cfd7c7f",
   "metadata": {},
   "outputs": [],
   "source": [
    "models.append(('SVM', SVC(gamma='auto')))"
   ]
  },
  {
   "cell_type": "code",
   "execution_count": null,
   "id": "fb4cab88-dd14-45a6-b766-c37b1371b508",
   "metadata": {},
   "outputs": [],
   "source": []
  },
  {
   "cell_type": "code",
   "execution_count": 79,
   "id": "aa80ce57-8b84-4a83-92a3-98403f49a87d",
   "metadata": {},
   "outputs": [],
   "source": [
    "#  evaluate each model in turn"
   ]
  },
  {
   "cell_type": "code",
   "execution_count": 80,
   "id": "b8ba0d26-1d64-4e84-87d8-d6c38001d696",
   "metadata": {},
   "outputs": [],
   "source": [
    "results = []"
   ]
  },
  {
   "cell_type": "code",
   "execution_count": 82,
   "id": "82da29e5-f2be-45d6-ba2f-5d8a0c79da6e",
   "metadata": {},
   "outputs": [],
   "source": [
    "names = []"
   ]
  },
  {
   "cell_type": "code",
   "execution_count": 86,
   "id": "f0e69367-23f1-4289-b408-1ea7c31a34d0",
   "metadata": {},
   "outputs": [
    {
     "name": "stderr",
     "output_type": "stream",
     "text": [
      "C:\\Users\\thaku\\AppData\\Local\\Packages\\PythonSoftwareFoundation.Python.3.11_qbz5n2kfra8p0\\LocalCache\\local-packages\\Python311\\site-packages\\sklearn\\linear_model\\_logistic.py:1281: FutureWarning: 'multi_class' was deprecated in version 1.5 and will be removed in 1.7. Use OneVsRestClassifier(LogisticRegression(..)) instead. Leave it to its default value to avoid this warning.\n",
      "  warnings.warn(\n",
      "C:\\Users\\thaku\\AppData\\Local\\Packages\\PythonSoftwareFoundation.Python.3.11_qbz5n2kfra8p0\\LocalCache\\local-packages\\Python311\\site-packages\\sklearn\\linear_model\\_logistic.py:1296: FutureWarning: Using the 'liblinear' solver for multiclass classification is deprecated. An error will be raised in 1.8. Either use another solver which supports the multinomial loss or wrap the estimator in a OneVsRestClassifier to keep applying a one-versus-rest scheme.\n",
      "  warnings.warn(\n",
      "C:\\Users\\thaku\\AppData\\Local\\Packages\\PythonSoftwareFoundation.Python.3.11_qbz5n2kfra8p0\\LocalCache\\local-packages\\Python311\\site-packages\\sklearn\\linear_model\\_logistic.py:1281: FutureWarning: 'multi_class' was deprecated in version 1.5 and will be removed in 1.7. Use OneVsRestClassifier(LogisticRegression(..)) instead. Leave it to its default value to avoid this warning.\n",
      "  warnings.warn(\n",
      "C:\\Users\\thaku\\AppData\\Local\\Packages\\PythonSoftwareFoundation.Python.3.11_qbz5n2kfra8p0\\LocalCache\\local-packages\\Python311\\site-packages\\sklearn\\linear_model\\_logistic.py:1296: FutureWarning: Using the 'liblinear' solver for multiclass classification is deprecated. An error will be raised in 1.8. Either use another solver which supports the multinomial loss or wrap the estimator in a OneVsRestClassifier to keep applying a one-versus-rest scheme.\n",
      "  warnings.warn(\n",
      "C:\\Users\\thaku\\AppData\\Local\\Packages\\PythonSoftwareFoundation.Python.3.11_qbz5n2kfra8p0\\LocalCache\\local-packages\\Python311\\site-packages\\sklearn\\linear_model\\_logistic.py:1281: FutureWarning: 'multi_class' was deprecated in version 1.5 and will be removed in 1.7. Use OneVsRestClassifier(LogisticRegression(..)) instead. Leave it to its default value to avoid this warning.\n",
      "  warnings.warn(\n",
      "C:\\Users\\thaku\\AppData\\Local\\Packages\\PythonSoftwareFoundation.Python.3.11_qbz5n2kfra8p0\\LocalCache\\local-packages\\Python311\\site-packages\\sklearn\\linear_model\\_logistic.py:1296: FutureWarning: Using the 'liblinear' solver for multiclass classification is deprecated. An error will be raised in 1.8. Either use another solver which supports the multinomial loss or wrap the estimator in a OneVsRestClassifier to keep applying a one-versus-rest scheme.\n",
      "  warnings.warn(\n",
      "C:\\Users\\thaku\\AppData\\Local\\Packages\\PythonSoftwareFoundation.Python.3.11_qbz5n2kfra8p0\\LocalCache\\local-packages\\Python311\\site-packages\\sklearn\\linear_model\\_logistic.py:1281: FutureWarning: 'multi_class' was deprecated in version 1.5 and will be removed in 1.7. Use OneVsRestClassifier(LogisticRegression(..)) instead. Leave it to its default value to avoid this warning.\n",
      "  warnings.warn(\n",
      "C:\\Users\\thaku\\AppData\\Local\\Packages\\PythonSoftwareFoundation.Python.3.11_qbz5n2kfra8p0\\LocalCache\\local-packages\\Python311\\site-packages\\sklearn\\linear_model\\_logistic.py:1296: FutureWarning: Using the 'liblinear' solver for multiclass classification is deprecated. An error will be raised in 1.8. Either use another solver which supports the multinomial loss or wrap the estimator in a OneVsRestClassifier to keep applying a one-versus-rest scheme.\n",
      "  warnings.warn(\n",
      "C:\\Users\\thaku\\AppData\\Local\\Packages\\PythonSoftwareFoundation.Python.3.11_qbz5n2kfra8p0\\LocalCache\\local-packages\\Python311\\site-packages\\sklearn\\linear_model\\_logistic.py:1281: FutureWarning: 'multi_class' was deprecated in version 1.5 and will be removed in 1.7. Use OneVsRestClassifier(LogisticRegression(..)) instead. Leave it to its default value to avoid this warning.\n",
      "  warnings.warn(\n",
      "C:\\Users\\thaku\\AppData\\Local\\Packages\\PythonSoftwareFoundation.Python.3.11_qbz5n2kfra8p0\\LocalCache\\local-packages\\Python311\\site-packages\\sklearn\\linear_model\\_logistic.py:1296: FutureWarning: Using the 'liblinear' solver for multiclass classification is deprecated. An error will be raised in 1.8. Either use another solver which supports the multinomial loss or wrap the estimator in a OneVsRestClassifier to keep applying a one-versus-rest scheme.\n",
      "  warnings.warn(\n",
      "C:\\Users\\thaku\\AppData\\Local\\Packages\\PythonSoftwareFoundation.Python.3.11_qbz5n2kfra8p0\\LocalCache\\local-packages\\Python311\\site-packages\\sklearn\\linear_model\\_logistic.py:1281: FutureWarning: 'multi_class' was deprecated in version 1.5 and will be removed in 1.7. Use OneVsRestClassifier(LogisticRegression(..)) instead. Leave it to its default value to avoid this warning.\n",
      "  warnings.warn(\n",
      "C:\\Users\\thaku\\AppData\\Local\\Packages\\PythonSoftwareFoundation.Python.3.11_qbz5n2kfra8p0\\LocalCache\\local-packages\\Python311\\site-packages\\sklearn\\linear_model\\_logistic.py:1296: FutureWarning: Using the 'liblinear' solver for multiclass classification is deprecated. An error will be raised in 1.8. Either use another solver which supports the multinomial loss or wrap the estimator in a OneVsRestClassifier to keep applying a one-versus-rest scheme.\n",
      "  warnings.warn(\n",
      "C:\\Users\\thaku\\AppData\\Local\\Packages\\PythonSoftwareFoundation.Python.3.11_qbz5n2kfra8p0\\LocalCache\\local-packages\\Python311\\site-packages\\sklearn\\linear_model\\_logistic.py:1281: FutureWarning: 'multi_class' was deprecated in version 1.5 and will be removed in 1.7. Use OneVsRestClassifier(LogisticRegression(..)) instead. Leave it to its default value to avoid this warning.\n",
      "  warnings.warn(\n",
      "C:\\Users\\thaku\\AppData\\Local\\Packages\\PythonSoftwareFoundation.Python.3.11_qbz5n2kfra8p0\\LocalCache\\local-packages\\Python311\\site-packages\\sklearn\\linear_model\\_logistic.py:1296: FutureWarning: Using the 'liblinear' solver for multiclass classification is deprecated. An error will be raised in 1.8. Either use another solver which supports the multinomial loss or wrap the estimator in a OneVsRestClassifier to keep applying a one-versus-rest scheme.\n",
      "  warnings.warn(\n",
      "C:\\Users\\thaku\\AppData\\Local\\Packages\\PythonSoftwareFoundation.Python.3.11_qbz5n2kfra8p0\\LocalCache\\local-packages\\Python311\\site-packages\\sklearn\\linear_model\\_logistic.py:1281: FutureWarning: 'multi_class' was deprecated in version 1.5 and will be removed in 1.7. Use OneVsRestClassifier(LogisticRegression(..)) instead. Leave it to its default value to avoid this warning.\n",
      "  warnings.warn(\n",
      "C:\\Users\\thaku\\AppData\\Local\\Packages\\PythonSoftwareFoundation.Python.3.11_qbz5n2kfra8p0\\LocalCache\\local-packages\\Python311\\site-packages\\sklearn\\linear_model\\_logistic.py:1296: FutureWarning: Using the 'liblinear' solver for multiclass classification is deprecated. An error will be raised in 1.8. Either use another solver which supports the multinomial loss or wrap the estimator in a OneVsRestClassifier to keep applying a one-versus-rest scheme.\n",
      "  warnings.warn(\n",
      "C:\\Users\\thaku\\AppData\\Local\\Packages\\PythonSoftwareFoundation.Python.3.11_qbz5n2kfra8p0\\LocalCache\\local-packages\\Python311\\site-packages\\sklearn\\linear_model\\_logistic.py:1281: FutureWarning: 'multi_class' was deprecated in version 1.5 and will be removed in 1.7. Use OneVsRestClassifier(LogisticRegression(..)) instead. Leave it to its default value to avoid this warning.\n",
      "  warnings.warn(\n",
      "C:\\Users\\thaku\\AppData\\Local\\Packages\\PythonSoftwareFoundation.Python.3.11_qbz5n2kfra8p0\\LocalCache\\local-packages\\Python311\\site-packages\\sklearn\\linear_model\\_logistic.py:1296: FutureWarning: Using the 'liblinear' solver for multiclass classification is deprecated. An error will be raised in 1.8. Either use another solver which supports the multinomial loss or wrap the estimator in a OneVsRestClassifier to keep applying a one-versus-rest scheme.\n",
      "  warnings.warn(\n",
      "C:\\Users\\thaku\\AppData\\Local\\Packages\\PythonSoftwareFoundation.Python.3.11_qbz5n2kfra8p0\\LocalCache\\local-packages\\Python311\\site-packages\\sklearn\\linear_model\\_logistic.py:1281: FutureWarning: 'multi_class' was deprecated in version 1.5 and will be removed in 1.7. Use OneVsRestClassifier(LogisticRegression(..)) instead. Leave it to its default value to avoid this warning.\n",
      "  warnings.warn(\n",
      "C:\\Users\\thaku\\AppData\\Local\\Packages\\PythonSoftwareFoundation.Python.3.11_qbz5n2kfra8p0\\LocalCache\\local-packages\\Python311\\site-packages\\sklearn\\linear_model\\_logistic.py:1296: FutureWarning: Using the 'liblinear' solver for multiclass classification is deprecated. An error will be raised in 1.8. Either use another solver which supports the multinomial loss or wrap the estimator in a OneVsRestClassifier to keep applying a one-versus-rest scheme.\n",
      "  warnings.warn(\n"
     ]
    },
    {
     "name": "stdout",
     "output_type": "stream",
     "text": [
      "LR: 0.941667 (0.065085)\n",
      "LDA: 0.975000 (0.038188)\n",
      "LDA: 0.975000 (0.038188)\n",
      "KNN: 0.958333 (0.041667)\n",
      "CART: 0.950000 (0.040825)\n",
      "NB: 0.950000 (0.055277)\n",
      "SVM: 0.983333 (0.033333)\n"
     ]
    }
   ],
   "source": [
    "for name, model in models:\n",
    "\tkfold = StratifiedKFold(n_splits=10, random_state=1, shuffle=True)\n",
    "\tcv_results = cross_val_score(model, X_train, Y_train, cv=kfold, scoring='accuracy')\n",
    "\tresults.append(cv_results)\n",
    "\tnames.append(name)\n",
    "\tprint('%s: %f (%f)' % (name, cv_results.mean(), cv_results.std()))\n"
   ]
  },
  {
   "cell_type": "code",
   "execution_count": null,
   "id": "dc5441e8-e0e2-4611-ae91-62f3f8427335",
   "metadata": {},
   "outputs": [],
   "source": []
  }
 ],
 "metadata": {
  "kernelspec": {
   "display_name": "Python 3 (ipykernel)",
   "language": "python",
   "name": "python3"
  },
  "language_info": {
   "codemirror_mode": {
    "name": "ipython",
    "version": 3
   },
   "file_extension": ".py",
   "mimetype": "text/x-python",
   "name": "python",
   "nbconvert_exporter": "python",
   "pygments_lexer": "ipython3",
   "version": "3.11.9"
  }
 },
 "nbformat": 4,
 "nbformat_minor": 5
}
